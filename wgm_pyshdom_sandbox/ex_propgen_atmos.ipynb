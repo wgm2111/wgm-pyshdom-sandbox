{
 "cells": [
  {
   "cell_type": "markdown",
   "metadata": {},
   "source": [
    "# Standard atmosphere code (`atmos`)\n",
    "This example shows how to use the the module `atmos` in order to compute the properties of the atmosphere with height.  The calculations take pressure or height and return the other, along with density, temperature, and a variety of other useful quantities. \n",
    "\n",
    "For SHDOM these codes are needed to compute `Z` and `T` values that are used in generating `.prop` files."
   ]
  },
  {
   "cell_type": "code",
   "execution_count": 39,
   "metadata": {
    "collapsed": false
   },
   "outputs": [
    {
     "name": "stdout",
     "output_type": "stream",
     "text": [
      "Populating the interactive namespace from numpy and matplotlib\n"
     ]
    }
   ],
   "source": [
    "%pylab inline\n",
    "\n",
    "# Third Party\n",
    "import numpy as np\n",
    "import scipy as sp\n",
    "from pandas import DataFrame\n",
    "\n",
    "# My standard atmosphere wrapper\n",
    "from propgen import atmos"
   ]
  },
  {
   "cell_type": "code",
   "execution_count": 40,
   "metadata": {
    "collapsed": false
   },
   "outputs": [],
   "source": [
    "# Define an atmosphere\n",
    "height = np.linspace(0,sp.sqrt(80),100)**2\n",
    "standard_atmosphere = atmos.get_atm(height, lat='standard', vcoord='height')\n",
    "\n",
    "# Convert to a data Frame\n",
    "sa_frame = DataFrame(standard_atmosphere)\n",
    "\n"
   ]
  },
  {
   "cell_type": "markdown",
   "metadata": {},
   "source": [
    "## Using the atmosphere data\n",
    "This last step made a data frame with the atmosphere calculations output to columns.  The name of each column is derived from the dtype of the array output by `get_atm`.\n",
    "```\n",
    "standard_atmosphere.dtype\n",
    "```\n",
    "\n",
    "Using a dtype to define the meaning of the output is helpful.  Not that these name appear automatically as the column headings.  Also, they can be used to label plots automatically."
   ]
  },
  {
   "cell_type": "code",
   "execution_count": 47,
   "metadata": {
    "collapsed": false
   },
   "outputs": [
    {
     "name": "stdout",
     "output_type": "stream",
     "text": [
      "\n",
      "The columns of the data frame:\n",
      "--\n",
      "standard_atmosphere.dtype -> \n",
      "\n",
      "dtype([('pressure', '<f8'), ('height', '<f8'), ('density', '<f8'), ('temperature', '<f8'), ('ozone_mixing_ratio', '<f8'), ('specific_humidity', '<f8'), ('saturation_ratio', '<f8'), ('ozone_above', '<f8'), ('water_vapor_above', '<f8')])\n",
      "\n",
      "\n",
      "The columns of the data frame:\n",
      "--\n",
      "pressure\n",
      "height\n",
      "density\n",
      "temperature\n",
      "ozone_mixing_ratio\n",
      "specific_humidity\n",
      "saturation_ratio\n",
      "ozone_above\n",
      "water_vapor_above\n",
      "\n",
      "\n",
      "The first four columns:\n",
      "--\n",
      "       pressure     height      density  temperature\n",
      "0   1013.250000   0.000000  1225.000000   288.149994\n",
      "5    989.874817   0.204061  1201.941162   286.823608\n",
      "10   919.749329   0.816243  1132.764526   282.844421\n",
      "15   811.950073   1.836547  1023.325989   276.212433\n",
      "20   678.656799   3.264973   885.252441   266.927673\n",
      "25   533.256042   5.101520   728.343872   254.990112\n",
      "30   391.698090   7.346189   567.240051   240.399765\n",
      "35   264.443878   9.998980   412.754700   223.156631\n",
      "40   163.656616  13.059892   263.182190   216.649994\n",
      "45    94.950256  16.528925   152.652908   216.649994\n",
      "50    51.513538  20.406080    82.685982   217.056076\n",
      "55    26.406294  24.691359    41.568764   221.341354\n",
      "60    13.367623  29.384756    20.650627   226.034744\n",
      "65     6.218925  34.486279     9.220483   235.981461\n",
      "70     2.777297  39.995918     3.854561   251.038574\n",
      "75     1.308274  45.913681     1.715898   266.073303\n",
      "80     0.679553  52.239567     0.876354   264.692749\n",
      "85     0.439465  58.973576     0.572226   246.780289\n",
      "90     0.184827  66.115700     0.249667   227.782227\n",
      "95     0.040688  73.665955     0.065192   213.700668\n"
     ]
    }
   ],
   "source": [
    "# Printing some data from the data frame\n",
    "\n",
    "print(\"\\nThe columns of the data frame:\")\n",
    "print(\"--\")\n",
    "msg = \"standard_atmosphere.dtype -> \\n\\n{}\"\n",
    "print(msg.format(repr(standard_atmosphere.dtype)))\n",
    "print(\"\\n\\nThe columns of the data frame:\")\n",
    "print(\"--\")\n",
    "for col in sa_frame.columns:\n",
    "        print(col)\n",
    "\n",
    "print(\"\\n\\nThe first four columns:\")\n",
    "print(\"--\")\n",
    "print(sa_frame.ix[::5,:4])"
   ]
  },
  {
   "cell_type": "code",
   "execution_count": 18,
   "metadata": {
    "collapsed": false
   },
   "outputs": [
    {
     "data": {
      "text/plain": [
       "<matplotlib.legend.Legend at 0x7f46f66393d0>"
      ]
     },
     "execution_count": 18,
     "metadata": {},
     "output_type": "execute_result"
    },
    {
     "data": {
      "image/png": "[encoded data removed]",
      "text/plain": [
       "<matplotlib.figure.Figure at 0x7f46f67b43d0>"
      ]
     },
     "metadata": {},
     "output_type": "display_data"
    }
   ],
   "source": [
    "plot(sa_frame['density'], sa_frame['height'], linewidth=3,\n",
    "    label='density')\n",
    "plot(sa_frame['pressure'],sa_frame['height'], linewidth=3, \n",
    "    label='pressure')\n",
    "plot(sa_frame['temperature'], sa_frame['height'], linewidth=3, \n",
    "    label='temperature')\n",
    "title(\"Vertical profile of the Standard Atmosphere\")\n",
    "legend(loc='best')"
   ]
  },
  {
   "cell_type": "code",
   "execution_count": null,
   "metadata": {
    "collapsed": true
   },
   "outputs": [],
   "source": []
  },
  {
   "cell_type": "code",
   "execution_count": null,
   "metadata": {
    "collapsed": true
   },
   "outputs": [],
   "source": []
  }
 ],
 "metadata": {
  "kernelspec": {
   "display_name": "Python 2",
   "language": "python",
   "name": "python2"
  },
  "language_info": {
   "codemirror_mode": {
    "name": "ipython",
    "version": 2
   },
   "file_extension": ".py",
   "mimetype": "text/x-python",
   "name": "python",
   "nbconvert_exporter": "python",
   "pygments_lexer": "ipython2",
   "version": "2.7.10"
  }
 },
 "nbformat": 4,
 "nbformat_minor": 0
}
