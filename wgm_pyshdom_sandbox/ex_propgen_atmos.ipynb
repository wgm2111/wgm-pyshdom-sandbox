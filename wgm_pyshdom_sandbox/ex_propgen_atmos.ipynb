{
 "cells": [
  {
   "cell_type": "markdown",
   "metadata": {},
   "source": [
    "# Standard atmosphere code (`atmos`)\n",
    "This example shows how to use the the module `atmos` in order to compute the properties of the atmosphere with height.  The calculations take pressure or height and return the other, along with density, temperature, and a variety of other useful quantities. \n",
    "\n",
    "For SHDOM these codes are needed to compute `Z` and `T` values that are used in generating `.prop` files."
   ]
  },
  {
   "cell_type": "code",
   "execution_count": 1,
   "metadata": {
    "collapsed": false
   },
   "outputs": [
    {
     "name": "stdout",
     "output_type": "stream",
     "text": [
      "Populating the interactive namespace from numpy and matplotlib\n"
     ]
    }
   ],
   "source": [
    "%pylab inline\n",
    "\n",
    "# Third Party\n",
    "import numpy as np\n",
    "import scipy as sp\n",
    "from pandas import DataFrame\n",
    "\n",
    "# My standard atmosphere wrapper\n",
    "from propgen import atmos\n"
   ]
  },
  {
   "cell_type": "code",
   "execution_count": 16,
   "metadata": {
    "collapsed": false
   },
   "outputs": [],
   "source": [
    "# Define an atmosphere\n",
    "height = np.linspace(0,sp.sqrt(80),100)**2\n",
    "standard_atmosphere = atmos.get_atm(height, lat='standard', vcoord='height')\n",
    "tropics_atmosphere = atmos.get_atm(height, lat='tropical', vcoord='height')\n",
    "subarc_atmosphere = atmos.get_atm(height, lat='subarc_winter', vcoord='height')\n",
    "\n",
    "# Convert to a data Frame\n",
    "sa_frame = DataFrame(standard_atmosphere)\n",
    "tropics_frame = DataFrame(tropics_atmosphere)\n",
    "subarc_frame = DataFrame(subarc_atmosphere)"
   ]
  },
  {
   "cell_type": "markdown",
   "metadata": {},
   "source": [
    "## Using the atmosphere data\n",
    "This last step made a data frame with the atmosphere calculations output to columns.  The name of each column is derived from the dtype of the array output by `get_atm`.  This data type is defined as follows:\n",
    "```\n",
    "# Definition of dtype for 'standard_atmosphere' \n",
    "atm_dtype = np.dtype([('pressure', 'f8'), \n",
    "                      ('height', 'f8'), \n",
    "                      ('density', 'f8'), \n",
    "                      ('temperature', 'f8'), \n",
    "                      ('ozone_mixing_ratio', 'f8'), \n",
    "                      ('specific_humidity', 'f8'), \n",
    "                      ('saturation_ratio', 'f8'), \n",
    "                      ('ozone_above', 'f8'), \n",
    "                      ('water_vapor_above', 'f8')])\n",
    "\n",
    "```\n",
    "\n",
    "Using a dtype to define the meaning of the output is helpful.  Not that these name appear automatically as the column headings.  Also, they can be used to label plots automatically."
   ]
  },
  {
   "cell_type": "code",
   "execution_count": 17,
   "metadata": {
    "collapsed": false
   },
   "outputs": [
    {
     "name": "stdout",
     "output_type": "stream",
     "text": [
      "\n",
      "The columns of the data frame:\n",
      "--\n",
      "standard_atmosphere.dtype -> \n",
      "\n",
      "dtype([('pressure', '<f8'), ('height', '<f8'), ('density', '<f8'), ('temperature', '<f8'), ('ozone_mixing_ratio', '<f8'), ('specific_humidity', '<f8'), ('saturation_ratio', '<f8'), ('ozone_above', '<f8'), ('water_vapor_above', '<f8')])\n",
      "\n",
      "\n",
      "The columns of the data frame:\n",
      "--\n",
      "pressure\n",
      "height\n",
      "density\n",
      "temperature\n",
      "ozone_mixing_ratio\n",
      "specific_humidity\n",
      "saturation_ratio\n",
      "ozone_above\n",
      "water_vapor_above\n",
      "\n",
      "\n",
      "The first four columns:\n",
      "--\n",
      "       pressure     height      density  temperature\n",
      "0   1013.250000   0.000000  1225.000000   288.149994\n",
      "10   919.749329   0.816243  1132.764526   282.844421\n",
      "20   678.656799   3.264973   885.252441   266.927673\n",
      "30   391.698090   7.346189   567.240051   240.399765\n",
      "40   163.656616  13.059892   263.182190   216.649994\n",
      "50    51.513538  20.406080    82.685982   217.056076\n",
      "60    13.367623  29.384756    20.650627   226.034744\n",
      "70     2.777297  39.995918     3.854561   251.038574\n",
      "80     0.679553  52.239567     0.876354   264.692749\n",
      "90     0.184827  66.115700     0.249667   227.782227\n"
     ]
    }
   ],
   "source": [
    "# Printing some data from the data frame\n",
    "\n",
    "print(\"\\nThe columns of the data frame:\")\n",
    "print(\"--\")\n",
    "msg = \"standard_atmosphere.dtype -> \\n\\n{}\"\n",
    "print(msg.format(repr(standard_atmosphere.dtype)))\n",
    "print(\"\\n\\nThe columns of the data frame:\")\n",
    "print(\"--\")\n",
    "for col in sa_frame.columns:\n",
    "        print(col)\n",
    "\n",
    "print(\"\\n\\nThe first four columns:\")\n",
    "print(\"--\")\n",
    "print(sa_frame.ix[::10,:4])"
   ]
  },
  {
   "cell_type": "markdown",
   "metadata": {},
   "source": [
    "## Plotting the verticle coordinates with height\n",
    "Here is a plot of the density, pressure and temperature vs. height for verticle coordinates."
   ]
  },
  {
   "cell_type": "code",
   "execution_count": 24,
   "metadata": {
    "collapsed": false
   },
   "outputs": [
    {
     "data": {
      "text/plain": [
       "<matplotlib.legend.Legend at 0x7f157961c090>"
      ]
     },
     "execution_count": 24,
     "metadata": {},
     "output_type": "execute_result"
    },
    {
     "data": {
      "image/png": "[encoded data removed]",
      "text/plain": [
       "<matplotlib.figure.Figure at 0x7f1578e980d0>"
      ]
     },
     "metadata": {},
     "output_type": "display_data"
    }
   ],
   "source": [
    "# Make a plot and add plots of density, pressure and temperature\n",
    "for color, vcoord in zip(['b', 'g','k'], ['density', 'pressure', 'temperature']):\n",
    "    plot(sa_frame[vcoord], sa_frame['height'], \n",
    "         c = color, linewidth=3, label=vcoord)\n",
    "    plot(tropics_frame[vcoord], tropics_frame['height'], \n",
    "         c=color, linewidth=3, linestyle='--', label=('tropics-{}'.format(vcoord) if vcoord=='density' else None))\n",
    "    plot(subarc_frame[vcoord], subarc_frame['height'], \n",
    "         c=color, linewidth=3, linestyle='-.', label=('subarc-{}'.format(vcoord) if vcoord=='density' else None))\n",
    "\n",
    "    \n",
    "# Make the plot pretty\n",
    "ylabel('Height [kilometers]')\n",
    "xlabel('Density [g/m**3], Pressure [milibars], Temperature [Kelvin]')\n",
    "title(\"Vertical profile of the Standard Atmosphere\", fontweight='bold', fontsize='large')\n",
    "legend(loc='best')"
   ]
  },
  {
   "cell_type": "code",
   "execution_count": null,
   "metadata": {
    "collapsed": true
   },
   "outputs": [],
   "source": []
  },
  {
   "cell_type": "code",
   "execution_count": null,
   "metadata": {
    "collapsed": true
   },
   "outputs": [],
   "source": []
  }
 ],
 "metadata": {
  "kernelspec": {
   "display_name": "Python 2",
   "language": "python",
   "name": "python2"
  },
  "language_info": {
   "codemirror_mode": {
    "name": "ipython",
    "version": 2
   },
   "file_extension": ".py",
   "mimetype": "text/x-python",
   "name": "python",
   "nbconvert_exporter": "python",
   "pygments_lexer": "ipython2",
   "version": "2.7.10"
  }
 },
 "nbformat": 4,
 "nbformat_minor": 0
}
