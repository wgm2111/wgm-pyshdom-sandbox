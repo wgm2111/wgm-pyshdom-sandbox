{
 "cells": [
  {
   "cell_type": "markdown",
   "metadata": {},
   "source": [
    "# Gradient calculation by order of scattering\n",
    "This notebook looks at the difficulties involved in using forward-adjoint theory to compute the gradient.  One primary difficulty is the singularities that are present in the adjoint source functions, i.e. the satellite measurements.  Here we consider detectors with a finite solid angle of view, but a singular location that is far above the top of the domain. \n",
    "\n",
    "When these adjoint sources are streamed through the domain, we see that each pixel adds a cone of delta functions to the direct term in the adjoint stokes vector solution.  "
   ]
  },
  {
   "cell_type": "code",
   "execution_count": 1,
   "metadata": {
    "collapsed": true
   },
   "outputs": [],
   "source": [
    "%matplotlib inline\n",
    "\n",
    "import matplotlib \n",
    "import scipy as sp\n",
    "import matplotlib.pyplot as plt\n"
   ]
  },
  {
   "cell_type": "code",
   "execution_count": 36,
   "metadata": {
    "collapsed": true
   },
   "outputs": [],
   "source": [
    "\n",
    "# Domain \n",
    "NX = 20\n",
    "XMIN = 0.\n",
    "XMAX = 50.\n",
    "NZ = 3\n",
    "ZMIN = 0.\n",
    "ZMAX = 10.\n",
    "\n",
    "# Plotting parameters\n",
    "WIDTH = 0.004\n",
    "\n",
    "# Sun parameters\n",
    "SZA = sp.pi / 8.0\n",
    "VZSUN = -sp.cos(SZA)\n",
    "VXSUN = -sp.sin(SZA)\n",
    "\n",
    "# Detector parameters\n",
    "DET_EPS = 0.025\n",
    "DET_X = sp.linspace(2.5, 18, 3)\n",
    "DET_Z = 25 * sp.ones_like(DET_X)\n",
    "COLLOC_X = 30. \n",
    "COLLOC_Z = 3.0\n",
    "\n",
    "\n"
   ]
  },
  {
   "cell_type": "code",
   "execution_count": 37,
   "metadata": {
    "collapsed": false
   },
   "outputs": [],
   "source": [
    "# define the spatial grid\n",
    "x = sp.linspace(XMIN, XMAX, NX)\n",
    "z = sp.linspace(ZMIN, ZMAX, NZ)\n",
    "xx, zz = sp.meshgrid(x, z)\n"
   ]
  },
  {
   "cell_type": "code",
   "execution_count": 38,
   "metadata": {
    "collapsed": false,
    "scrolled": true
   },
   "outputs": [
    {
     "data": {
      "text/plain": [
       "([<matplotlib.axis.XTick at 0x7fc1698a7bd0>,\n",
       "  <matplotlib.axis.XTick at 0x7fc1698a77d0>],\n",
       " <a list of 2 Text xticklabel objects>)"
      ]
     },
     "execution_count": 38,
     "metadata": {},
     "output_type": "execute_result"
    },
    {
     "data": {
      "image/png": "[encoded data removed]",
      "text/plain": [
       "<matplotlib.figure.Figure at 0x7fc16974b450>"
      ]
     },
     "metadata": {},
     "output_type": "display_data"
    }
   ],
   "source": [
    "\n",
    "# define the directional sensitivity of a detector\n",
    "px = DET_X #sp.linspace(5, 20, 3)\n",
    "pz = DET_Z #sp.ones_like(px) * 25.\n",
    "\n",
    "# direction of view (from center on the ground)\n",
    "vx, vz = [px-COLLOC_X, pz-COLLOC_Z]\n",
    "vnorm = sp.sqrt(vx**2 + vz**2)\n",
    "vx /= vnorm\n",
    "vz /= vnorm\n",
    "\n",
    "\n",
    "pixels = sp.array([px, pz, vx, vz])\n",
    "\n",
    "# Determine if a point is viewed\n",
    "def bool_viewed(pixel, xx, zz, eps=DET_EPS):\n",
    "    \"Return an array shaped like xx and zz.  True when in pixel.\"\n",
    "    px, pz, vx, vz = pixel\n",
    "    \n",
    "    _vx = px - xx\n",
    "    _vz = pz - zz\n",
    "    _vnorm = sp.sqrt(_vx**2 + _vz**2)\n",
    "    _vx *= 1.0 / _vnorm\n",
    "    _vz *= 1.0 / _vnorm\n",
    "    \n",
    "    # Determine if the point is in the solid angle of view\n",
    "    out = _vx*vx + _vz*vz >= (1-eps) * sp.ones_like(xx)\n",
    "    \n",
    "    return out.flatten(), _vx.flatten(), _vz.flatten()    \n",
    "\n",
    "view1, vx1, vz1 = bool_viewed(pixels[:, 0], xx, zz)\n",
    "view2, vx2, vz2 = bool_viewed(pixels[:, 1], xx, zz)\n",
    "view3, vx3, vz3 = bool_viewed(pixels[:, 2], xx, zz)\n",
    "#px1, pz1, vx1, vz1 = pixels[:,0]\n",
    "#px2, pz2, vx2, v21 = pixels[:,1]\n",
    "#px3, pz3, vx3, v31 = pixels[:,2]\n",
    "\n",
    "\n",
    "xxflat = xx.flatten()\n",
    "zzflat = zz.flatten()\n",
    "\n",
    "\n",
    "#Plot the grid and solar direct delta function \n",
    "plt.plot(xxflat, zzflat, color='k', marker='.', linewidth=0)\n",
    "plt.quiver(xxflat, zzflat, VXSUN, VZSUN, color='y', width=WIDTH)\n",
    "\n",
    "# Plot the detector delta functions\n",
    "plt.quiver(xxflat[view1], zzflat[view1], \n",
    "           vx1[view1], vz1[view1], color='r', width=WIDTH)\n",
    "plt.quiver(xxflat[view2], zzflat[view2], \n",
    "           vx2[view2], vz2[view2], color='g', width=WIDTH)\n",
    "plt.quiver(xxflat[view3], zzflat[view3], \n",
    "           vx3[view3], vz3[view3], color='b', width=WIDTH)\n",
    "\n",
    "\n",
    "plt.quiver(*pixels, linewidth=.5)\n",
    "plt.yticks([0,10, 20, 30,])\n",
    "plt.xticks([0, 50])\n",
    "\n",
    "    "
   ]
  },
  {
   "cell_type": "code",
   "execution_count": 124,
   "metadata": {
    "collapsed": true
   },
   "outputs": [],
   "source": [
    "plt.quiver?\n"
   ]
  },
  {
   "cell_type": "code",
   "execution_count": null,
   "metadata": {
    "collapsed": true
   },
   "outputs": [],
   "source": []
  }
 ],
 "metadata": {
  "kernelspec": {
   "display_name": "Python 2",
   "language": "python",
   "name": "python2"
  },
  "language_info": {
   "codemirror_mode": {
    "name": "ipython",
    "version": 2
   },
   "file_extension": ".py",
   "mimetype": "text/x-python",
   "name": "python",
   "nbconvert_exporter": "python",
   "pygments_lexer": "ipython2",
   "version": "2.7.11"
  }
 },
 "nbformat": 4,
 "nbformat_minor": 0
}
